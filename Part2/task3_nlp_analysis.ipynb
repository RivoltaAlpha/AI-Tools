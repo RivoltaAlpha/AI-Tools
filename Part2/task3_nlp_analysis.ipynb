{
 "cells": [
  {
   "cell_type": "code",
   "execution_count": null,
   "id": "71d64f61",
   "metadata": {
    "vscode": {
     "languageId": "plaintext"
    }
   },
   "outputs": [],
   "source": [
    "import spacy\n",
    "from textblob import TextBlob\n",
    "import pandas as pd\n",
    "\n",
    "# Load spaCy model\n",
    "nlp = spacy.load(\"en_core_web_sm\")\n",
    "\n",
    "# Sample Amazon reviews data\n",
    "reviews = [\n",
    "    \"The iPhone 14 Pro from Apple is amazing! Great camera quality.\",\n",
    "    \"Samsung Galaxy S23 disappointed me. Battery life is terrible.\",\n",
    "    \"Love my new MacBook Pro! Apple really outdid themselves.\",\n",
    "    \"This Sony headphones are decent but overpriced.\",\n",
    "    \"Google Pixel 7 has excellent photo quality but poor build.\"\n",
    "]\n",
    "\n",
    "def extract_entities_and_sentiment(text):\n",
    "    # Process text with spaCy\n",
    "    doc = nlp(text)\n",
    "    \n",
    "    # Extract named entities\n",
    "    entities = []\n",
    "    for ent in doc.ents:\n",
    "        if ent.label_ in ['PERSON', 'ORG', 'PRODUCT']:\n",
    "            entities.append({\n",
    "                'text': ent.text,\n",
    "                'label': ent.label_,\n",
    "                'start': ent.start_char,\n",
    "                'end': ent.end_char\n",
    "            })\n",
    "    \n",
    "    # Sentiment analysis using TextBlob\n",
    "    blob = TextBlob(text)\n",
    "    sentiment = 'positive' if blob.sentiment.polarity > 0 else 'negative' if blob.sentiment.polarity < 0 else 'neutral'\n",
    "    \n",
    "    return {\n",
    "        'text': text,\n",
    "        'entities': entities,\n",
    "        'sentiment': sentiment,\n",
    "        'polarity': blob.sentiment.polarity\n",
    "    }\n",
    "\n",
    "# Process reviews\n",
    "results = []\n",
    "for review in reviews:\n",
    "    result = extract_entities_and_sentiment(review)\n",
    "    results.append(result)\n",
    "    \n",
    "    print(f\"Review: {review}\")\n",
    "    print(f\"Entities: {result['entities']}\")\n",
    "    print(f\"Sentiment: {result['sentiment']} (polarity: {result['polarity']:.2f})\")\n",
    "    print(\"-\" * 50)\n",
    "\n",
    "# Create DataFrame for analysis\n",
    "df_results = pd.DataFrame(results)\n",
    "print(\"\\nSentiment Distribution:\")\n",
    "print(df_results['sentiment'].value_counts())"
   ]
  }
 ],
 "metadata": {
  "language_info": {
   "name": "python"
  }
 },
 "nbformat": 4,
 "nbformat_minor": 5
}
